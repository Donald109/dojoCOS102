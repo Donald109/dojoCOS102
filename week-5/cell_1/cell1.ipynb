{
 "cells": [
  {
   "cell_type": "code",
   "execution_count": 3,
   "id": "f60c50f6-e717-40c6-8998-55aa4aac2f8d",
   "metadata": {},
   "outputs": [
    {
     "name": "stderr",
     "output_type": "stream",
     "text": [
      "Exception in Tkinter callback\n",
      "Traceback (most recent call last):\n",
      "  File \"C:\\Users\\USER\\anaconda3\\Lib\\tkinter\\__init__.py\", line 1968, in __call__\n",
      "    return self.func(*args)\n",
      "           ^^^^^^^^^^^^^^^^\n",
      "  File \"C:\\Users\\USER\\AppData\\Local\\Temp\\ipykernel_1868\\3315713901.py\", line 8, in button_click\n",
      "    msgbox.showinfo(\"Info\", \"Welcome to COS 102 GUI App!\\n\")\n",
      "    ^^^^^^\n",
      "NameError: name 'msgbox' is not defined\n",
      "Exception in Tkinter callback\n",
      "Traceback (most recent call last):\n",
      "  File \"C:\\Users\\USER\\anaconda3\\Lib\\tkinter\\__init__.py\", line 1968, in __call__\n",
      "    return self.func(*args)\n",
      "           ^^^^^^^^^^^^^^^^\n",
      "  File \"C:\\Users\\USER\\AppData\\Local\\Temp\\ipykernel_1868\\3315713901.py\", line 8, in button_click\n",
      "    msgbox.showinfo(\"Info\", \"Welcome to COS 102 GUI App!\\n\")\n",
      "    ^^^^^^\n",
      "NameError: name 'msgbox' is not defined\n",
      "Exception in Tkinter callback\n",
      "Traceback (most recent call last):\n",
      "  File \"C:\\Users\\USER\\anaconda3\\Lib\\tkinter\\__init__.py\", line 1968, in __call__\n",
      "    return self.func(*args)\n",
      "           ^^^^^^^^^^^^^^^^\n",
      "  File \"C:\\Users\\USER\\AppData\\Local\\Temp\\ipykernel_1868\\3315713901.py\", line 8, in button_click\n",
      "    msgbox.showinfo(\"Info\", \"Welcome to COS 102 GUI App!\\n\")\n",
      "    ^^^^^^\n",
      "NameError: name 'msgbox' is not defined\n"
     ]
    }
   ],
   "source": [
    "import tkinter as tk\n",
    "\n",
    "# Handling button click event\n",
    "def button_click():\n",
    "    #print(\"Button clicked!\")\n",
    "\n",
    "    # Show an information message box\n",
    "    msgbox.showinfo(\"Info\", \"Welcome to COS 102 GUI App!\\n\")\n",
    "\n",
    "    # Ask for user confirmation\n",
    "    result = msgbox.askyesno(\"Confirmation\", \"Do you want to continue?\")\n",
    "\n",
    "# Create the main window\n",
    "root = tk.Tk()\n",
    "root.title(\"Home Page\")\n",
    "root.geometry(\"300x100\")\n",
    "\n",
    "# Add a label widget\n",
    "label = tk.Label(root, text=\"Hello Friend \\n\")\n",
    "label.pack()\n",
    "\n",
    "#Add a button widget\n",
    "button = tk.Button(root, text=\"Click Me!\", command=button_click)\n",
    "button.pack()\n",
    "\n",
    "# Styling the button widget\n",
    "button.config(fg=\"red\", bg=\"yellow\")\n",
    "\n",
    "# Start the event loop\n",
    "root.mainloop()"
   ]
  },
  {
   "cell_type": "code",
   "execution_count": null,
   "id": "9aeddf10-9603-49bc-97ea-c863d03b28a0",
   "metadata": {},
   "outputs": [],
   "source": []
  },
  {
   "cell_type": "code",
   "execution_count": null,
   "id": "2ff4b003-0a7a-4f26-a138-fccc20cbf9ab",
   "metadata": {},
   "outputs": [],
   "source": []
  }
 ],
 "metadata": {
  "kernelspec": {
   "display_name": "Python [conda env:base] *",
   "language": "python",
   "name": "conda-base-py"
  },
  "language_info": {
   "codemirror_mode": {
    "name": "ipython",
    "version": 3
   },
   "file_extension": ".py",
   "mimetype": "text/x-python",
   "name": "python",
   "nbconvert_exporter": "python",
   "pygments_lexer": "ipython3",
   "version": "3.12.7"
  }
 },
 "nbformat": 4,
 "nbformat_minor": 5
}
