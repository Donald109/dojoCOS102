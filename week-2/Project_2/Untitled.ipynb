{
 "cells": [
  {
   "cell_type": "code",
   "execution_count": 1,
   "id": "9e8c7968-f1de-4032-99d8-b6df6f25f7cc",
   "metadata": {},
   "outputs": [
    {
     "name": "stdin",
     "output_type": "stream",
     "text": [
      "Enter the coefficient of x^3:  7\n",
      "Enter the coefficient of x^2:  5\n",
      "Enter the coefficient of x:  5\n",
      "Enter the constant term:  3\n"
     ]
    },
    {
     "name": "stdout",
     "output_type": "stream",
     "text": [
      "The roots are: ((0.3679709000674439+0.5829916393688511j), (-0.03624273728921795-0.34961878703086474j), (-1.0460138770639402-0.23337285233798635j))\n"
     ]
    }
   ],
   "source": [
    "import math\n",
    "import cmath \n",
    "\n",
    "def solve_cubic(a, b, c, d):\n",
    "    # Convert to depressed cubic form\n",
    "    p = (3 * a * c - b**2) / (3 * a**2)\n",
    "    q = (2 * b**3 - 9 * a * b * c + 27 * a**2 * d) / (27 * a**3)\n",
    "\n",
    "    # Compute the discriminant \n",
    "    delta = (q / 2) ** 2 + (p / 3) ** 3\n",
    "\n",
    "    # Solve based on the discriminant\n",
    "    if delta > 0:\n",
    "        A = (-q / 2 + math.sqrt(delta)) ** (1/3)\n",
    "        B = (-q / 2 - math.sqrt(delta)) ** (1/3)\n",
    "        t1 = A + B\n",
    "        t2 = complex(-0.5 * (A + B), (math.sqrt(3) / 2) * (A - B))\n",
    "        t3 = complex(-0.5 * (A + B), -(math.sqrt(3) / 2) * (A - B))\n",
    "\n",
    "    elif delta == 0:\n",
    "        A = (-q / 2) ** (1/3)\n",
    "        t1 = 2 * A\n",
    "        t2 = -A\n",
    "        t3 = -A\n",
    "\n",
    "    else:\n",
    "        r = math.sqrt(-p / 3)\n",
    "        theta = math.acos(-q / (2 * r**3))\n",
    "\n",
    "        t1 = 2 * r * math.cos(theta / 3)\n",
    "        t2 = 2 * r * math.cos((theta + 2 * math.pi) / 3)\n",
    "        t3 = 2 * r * math.cos((theta + 4 * math.pi) / 3)\n",
    "\n",
    "    x1 = t1 - b / (3 * a)\n",
    "    x2 = t2 - b / (3 * a)\n",
    "    x3 = t3 - b / (3 * a)\n",
    "\n",
    "    return x1, x2, x3\n",
    "\n",
    "\n",
    "\n",
    "a = int(input(\"Enter the coefficient of x^3: \"))\n",
    "b = int(input(\"Enter the coefficient of x^2: \"))\n",
    "c = int(input(\"Enter the coefficient of x: \"))\n",
    "d = int(input(\"Enter the constant term: \"))\n",
    "\n",
    "roots = solve_cubic(a, b, c, d)\n",
    "print(\"The roots are:\", roots)\n"
   ]
  },
  {
   "cell_type": "code",
   "execution_count": null,
   "id": "1672b92b-7155-48d9-b9d9-a39776bf7041",
   "metadata": {},
   "outputs": [],
   "source": []
  }
 ],
 "metadata": {
  "kernelspec": {
   "display_name": "Python [conda env:base] *",
   "language": "python",
   "name": "conda-base-py"
  },
  "language_info": {
   "codemirror_mode": {
    "name": "ipython",
    "version": 3
   },
   "file_extension": ".py",
   "mimetype": "text/x-python",
   "name": "python",
   "nbconvert_exporter": "python",
   "pygments_lexer": "ipython3",
   "version": "3.12.7"
  }
 },
 "nbformat": 4,
 "nbformat_minor": 5
}
