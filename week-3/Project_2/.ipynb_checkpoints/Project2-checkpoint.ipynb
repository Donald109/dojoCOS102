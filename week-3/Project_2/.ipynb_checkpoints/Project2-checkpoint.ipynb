{
 "cells": [
  {
   "cell_type": "code",
   "execution_count": 1,
   "id": "2d73b2c4-5c73-429d-abaf-1bb66fcf90e2",
   "metadata": {},
   "outputs": [
    {
     "name": "stdin",
     "output_type": "stream",
     "text": [
      "Enter years of experience:  4\n",
      "Enter age:  54\n"
     ]
    },
    {
     "name": "stdout",
     "output_type": "stream",
     "text": [
      "Annual Tax Revenue (ATR): N550,000\n"
     ]
    }
   ],
   "source": [
    "def calculate_atr(experience, age):\n",
    "    if experience > 25 and age >= 55:\n",
    "        return \"N5,600,000\"\n",
    "    elif experience > 20 and age >= 45:\n",
    "        return \"N4,480,000\"\n",
    "    elif experience > 10 and age >= 35:\n",
    "        return \"N1,500,000\"\n",
    "    else:\n",
    "        return \"N550,000\"\n",
    "\n",
    "# Get user input\n",
    "experience = int(input(\"Enter years of experience: \"))\n",
    "age = int(input(\"Enter age: \"))\n",
    "\n",
    "# Compute ATR\n",
    "atr = calculate_atr(experience, age)\n",
    "\n",
    "# Display result\n",
    "print(f\"Annual Tax Revenue (ATR): {atr}\")\n"
   ]
  },
  {
   "cell_type": "code",
   "execution_count": null,
   "id": "21597c39-a058-49ec-af5f-1fb50209574d",
   "metadata": {},
   "outputs": [],
   "source": []
  }
 ],
 "metadata": {
  "kernelspec": {
   "display_name": "Python [conda env:base] *",
   "language": "python",
   "name": "conda-base-py"
  },
  "language_info": {
   "codemirror_mode": {
    "name": "ipython",
    "version": 3
   },
   "file_extension": ".py",
   "mimetype": "text/x-python",
   "name": "python",
   "nbconvert_exporter": "python",
   "pygments_lexer": "ipython3",
   "version": "3.12.7"
  }
 },
 "nbformat": 4,
 "nbformat_minor": 5
}
