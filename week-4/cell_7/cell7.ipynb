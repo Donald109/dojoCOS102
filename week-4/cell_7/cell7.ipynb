{
 "cells": [
  {
   "cell_type": "code",
   "execution_count": 3,
   "id": "e4273d0c-8bdd-4f12-b044-7e5f8352fba0",
   "metadata": {},
   "outputs": [
    {
     "name": "stdout",
     "output_type": "stream",
     "text": [
      "Output is: \n",
      "10\n",
      "Output is: \n",
      "70\n",
      "60\n"
     ]
    }
   ],
   "source": [
    "def printinfo(arg1, *vartuple ):\n",
    "    #This is test\n",
    "    print (\"Output is: \")\n",
    "    print (arg1)\n",
    "    for var in vartuple:\n",
    "        print (var)\n",
    "        return;\n",
    "printinfo( 10 );\n",
    "printinfo(70, 60, 50 );"
   ]
  },
  {
   "cell_type": "code",
   "execution_count": null,
   "id": "e2630814-48ed-44f3-99a8-4e8457831428",
   "metadata": {},
   "outputs": [],
   "source": []
  }
 ],
 "metadata": {
  "kernelspec": {
   "display_name": "Python [conda env:base] *",
   "language": "python",
   "name": "conda-base-py"
  },
  "language_info": {
   "codemirror_mode": {
    "name": "ipython",
    "version": 3
   },
   "file_extension": ".py",
   "mimetype": "text/x-python",
   "name": "python",
   "nbconvert_exporter": "python",
   "pygments_lexer": "ipython3",
   "version": "3.12.7"
  }
 },
 "nbformat": 4,
 "nbformat_minor": 5
}
