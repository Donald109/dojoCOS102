{
 "cells": [
  {
   "cell_type": "code",
   "execution_count": 7,
   "id": "d386ce0a-756d-45ca-9ad6-9a87905ddc93",
   "metadata": {},
   "outputs": [
    {
     "name": "stdout",
     "output_type": "stream",
     "text": [
      "My string\n"
     ]
    }
   ],
   "source": [
    "def printme( str ):\n",
    "    #This prints a passed string\n",
    "    print (str);\n",
    "    return;\n",
    "printme( str = \"My string\");    "
   ]
  },
  {
   "cell_type": "code",
   "execution_count": null,
   "id": "524e3c29-ee0f-4706-b778-33e86c2a4be2",
   "metadata": {},
   "outputs": [],
   "source": []
  }
 ],
 "metadata": {
  "kernelspec": {
   "display_name": "Python [conda env:base] *",
   "language": "python",
   "name": "conda-base-py"
  },
  "language_info": {
   "codemirror_mode": {
    "name": "ipython",
    "version": 3
   },
   "file_extension": ".py",
   "mimetype": "text/x-python",
   "name": "python",
   "nbconvert_exporter": "python",
   "pygments_lexer": "ipython3",
   "version": "3.12.7"
  }
 },
 "nbformat": 4,
 "nbformat_minor": 5
}
