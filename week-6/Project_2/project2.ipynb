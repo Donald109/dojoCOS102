{
 "cells": [
  {
   "cell_type": "code",
   "execution_count": 1,
   "id": "2d819fc7-bbc9-466e-92dc-a8306e955997",
   "metadata": {},
   "outputs": [
    {
     "name": "stdin",
     "output_type": "stream",
     "text": [
      "Enter candidate's name (or 'done' to finish):  James John\n",
      "Enter department ('Computer Science' or 'Mass Communication'):  Computer Science\n",
      "Enter JAMB score:  305\n",
      "Enter number of credit passes:  8\n",
      "Enter interview status ('Pass' or 'Fail'):  Pass\n"
     ]
    },
    {
     "name": "stdout",
     "output_type": "stream",
     "text": [
      "James John is admitted to Computer Science.\n"
     ]
    },
    {
     "name": "stdin",
     "output_type": "stream",
     "text": [
      "Enter candidate's name (or 'done' to finish):  Joanne Philips\n",
      "Enter department ('Computer Science' or 'Mass Communication'):  Mass Communication\n",
      "Enter JAMB score:  202\n",
      "Enter number of credit passes:  6\n",
      "Enter interview status ('Pass' or 'Fail'):  Pass\n"
     ]
    },
    {
     "name": "stdout",
     "output_type": "stream",
     "text": [
      "Joanne Philips is not admitted to Mass Communication.\n"
     ]
    },
    {
     "name": "stdin",
     "output_type": "stream",
     "text": [
      "Enter candidate's name (or 'done' to finish):  done\n"
     ]
    },
    {
     "name": "stdout",
     "output_type": "stream",
     "text": [
      "\n",
      "Admitted Candidates:\n",
      "{'Name': 'James John', 'Department': 'Computer Science', 'JAMB Score': 305, 'Credits': 8, 'Interview': 'Pass'}\n",
      "\n",
      "Not Admitted Candidates:\n",
      "{'Name': 'Joanne Philips', 'Department': 'Mass Communication', 'JAMB Score': 202, 'Credits': 6, 'Interview': 'Pass'}\n",
      "\n",
      "Admitted Candidates (returned): [{'Name': 'James John', 'Department': 'Computer Science', 'JAMB Score': 305, 'Credits': 8, 'Interview': 'Pass'}]\n",
      "Not Admitted Candidates (returned): [{'Name': 'Joanne Philips', 'Department': 'Mass Communication', 'JAMB Score': 202, 'Credits': 6, 'Interview': 'Pass'}]\n"
     ]
    }
   ],
   "source": [
    "def check_admission(name, department, jamb_score, num_credits, interview_status):\n",
    "    \"\"\"\n",
    "    Checks if a candidate is eligible for admission based on the given criteria.\n",
    "\n",
    "    Args:\n",
    "        name (str): The name of the candidate.\n",
    "        department (str): The department the candidate is applying to ('Computer Science' or 'Mass Communication').\n",
    "        jamb_score (int): The candidate's JAMB score.\n",
    "        num_credits (int): The number of credit passes in the required subjects.\n",
    "        interview_status (str): The candidate's interview status ('Pass' or 'Fail').\n",
    "\n",
    "    Returns:\n",
    "        bool: True if the candidate is eligible, False otherwise.\n",
    "    \"\"\"\n",
    "\n",
    "    # Define admission criteria based on department\n",
    "    if department == \"Computer Science\":\n",
    "        required_jamb_score = 250\n",
    "    elif department == \"Mass Communication\":\n",
    "        required_jamb_score = 230\n",
    "    else:\n",
    "        print(\"Invalid department. Please enter 'Computer Science' or 'Mass Communication'.\")\n",
    "        return False  # Return False for invalid department\n",
    "\n",
    "    required_credits = 5\n",
    "    required_interview_status = \"Pass\"\n",
    "\n",
    "    # Check if the candidate meets all the requirements\n",
    "    if (\n",
    "        jamb_score >= required_jamb_score\n",
    "        and num_credits >= required_credits\n",
    "        and interview_status == required_interview_status\n",
    "    ):\n",
    "        return True  # Candidate is eligible\n",
    "    else:\n",
    "        return False  # Candidate is not eligible\n",
    "\n",
    "\n",
    "def admit_candidates():\n",
    "    \"\"\"\n",
    "    Collects candidate information, checks admission status, and stores data in lists.\n",
    "    \"\"\"\n",
    "    admitted = []\n",
    "    not_admitted = []\n",
    "\n",
    "    while True:\n",
    "        name = input(\"Enter candidate's name (or 'done' to finish): \")\n",
    "        if name.lower() == \"done\":\n",
    "            break  # Exit loop when user enters 'done'\n",
    "\n",
    "        department = input(\"Enter department ('Computer Science' or 'Mass Communication'): \")\n",
    "        jamb_score = int(input(\"Enter JAMB score: \"))\n",
    "        num_credits = int(input(\"Enter number of credit passes: \"))\n",
    "        interview_status = input(\"Enter interview status ('Pass' or 'Fail'): \")\n",
    "\n",
    "        # Check admission status using the check_admission function\n",
    "        if check_admission(name, department, jamb_score, num_credits, interview_status):\n",
    "            admitted.append(\n",
    "                {\n",
    "                    \"Name\": name,\n",
    "                    \"Department\": department,\n",
    "                    \"JAMB Score\": jamb_score,\n",
    "                    \"Credits\": num_credits,\n",
    "                    \"Interview\": interview_status,\n",
    "                }\n",
    "            )\n",
    "            print(f\"{name} is admitted to {department}.\")\n",
    "        else:\n",
    "            not_admitted.append(\n",
    "                {\n",
    "                    \"Name\": name,\n",
    "                    \"Department\": department,\n",
    "                    \"JAMB Score\": jamb_score,\n",
    "                    \"Credits\": num_credits,\n",
    "                    \"Interview\": interview_status,\n",
    "                }\n",
    "            )\n",
    "            print(f\"{name} is not admitted to {department}.\")\n",
    "\n",
    "    # Print the lists of admitted and not admitted candidates\n",
    "    print(\"\\nAdmitted Candidates:\")\n",
    "    if not admitted:\n",
    "        print(\"No candidates admitted.\")\n",
    "    else:\n",
    "        for candidate in admitted:\n",
    "            print(candidate)\n",
    "\n",
    "    print(\"\\nNot Admitted Candidates:\")\n",
    "    if not not_admitted:\n",
    "        print(\"No candidates not admitted.\")\n",
    "    else:\n",
    "        for candidate in not_admitted:\n",
    "            print(candidate)\n",
    "    return admitted, not_admitted #returning the two lists\n",
    "\n",
    "# Call the function to start the admission process\n",
    "if __name__ == \"__main__\":\n",
    "    admitted_list, not_admitted_list = admit_candidates() #storing the returned lists in variables\n",
    "\n",
    "    # Access and print the lists\n",
    "    print(\"\\nAdmitted Candidates (returned):\", admitted_list)\n",
    "    print(\"Not Admitted Candidates (returned):\", not_admitted_list)\n",
    "\n",
    "    # You can now use admitted_list and not_admitted_list for further processing\n",
    "    # For example, you can iterate through them, analyze the data, or store it in a file.\n"
   ]
  },
  {
   "cell_type": "code",
   "execution_count": null,
   "id": "5ebb40cb-9e1d-4c8f-8453-05f14a9925d4",
   "metadata": {},
   "outputs": [],
   "source": []
  }
 ],
 "metadata": {
  "kernelspec": {
   "display_name": "Python [conda env:base] *",
   "language": "python",
   "name": "conda-base-py"
  },
  "language_info": {
   "codemirror_mode": {
    "name": "ipython",
    "version": 3
   },
   "file_extension": ".py",
   "mimetype": "text/x-python",
   "name": "python",
   "nbconvert_exporter": "python",
   "pygments_lexer": "ipython3",
   "version": "3.12.7"
  }
 },
 "nbformat": 4,
 "nbformat_minor": 5
}
